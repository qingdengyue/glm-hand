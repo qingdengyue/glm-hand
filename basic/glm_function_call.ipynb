{
 "cells": [
  {
   "cell_type": "code",
   "execution_count": 4,
   "metadata": {},
   "outputs": [],
   "source": [
    "import os \n",
    "from zhipuai import ZhipuAI\n",
    "client=ZhipuAI()"
   ]
  },
  {
   "cell_type": "code",
   "execution_count": 6,
   "metadata": {},
   "outputs": [
    {
     "data": {
      "text/plain": [
       "[CompletionChoice(index=0, finish_reason='tool_calls', message=CompletionMessage(content=None, role='assistant', tool_calls=[CompletionMessageToolCall(id='call_8489581444274912209', function=Function(arguments='{\"location\":\"天津\",\"locationCityCode\":\"120000\",\"unit\":\"c\"}', name='get_current_weather'), type='function')]))]"
      ]
     },
     "execution_count": 6,
     "metadata": {},
     "output_type": "execute_result"
    }
   ],
   "source": [
    "tools=[\n",
    "    {\n",
    "        \"type\":\"function\",\n",
    "        \"function\":{\n",
    "            \"name\":\"get_current_weather\",\n",
    "            \"description\":\"获取指定城市的天气信息\",\n",
    "            \"parameters\":{\n",
    "                \"type\":\"object\",\n",
    "                \"properties\":{\n",
    "                    \"location\":{\n",
    "                        \"type\":\"string\",\n",
    "                        \"description\":\"城市，如：北京\"\n",
    "                    },\n",
    "                    \"locationCityCode\":{\n",
    "                        \"type\":\"string\",\n",
    "                        \"description\":\"城市编码,如：110000\"\n",
    "                    },\n",
    "                    \"unit\":{\n",
    "                        \"type\":\"string\",\n",
    "                        \"enum\":[\"c\",\"f\"]\n",
    "                    }\n",
    "                },\n",
    "                \"required\":[\"location\",\"locationCityCode\"]\n",
    "            }\n",
    "        }\n",
    "    }\n",
    "]\n",
    "\n",
    "messages=[{\"role\":\"user\",\"content\":\"今天天津天气如何？\"}]\n",
    "\n",
    "completion=client.chat.completions.create(\n",
    "    model=\"glm-4\",\n",
    "    messages=messages,\n",
    "    tools=tools,\n",
    "    tool_choice=\"auto\"\n",
    ")\n",
    "completion.choices"
   ]
  },
  {
   "cell_type": "code",
   "execution_count": 7,
   "metadata": {},
   "outputs": [
    {
     "name": "stdout",
     "output_type": "stream",
     "text": [
      "https://restapi.amap.com/v3/weather/weatherInfo?key=225630f84b6a0f7626e97b3cda0d6e0e&city=110000\n",
      "{'status': '1', 'count': '1', 'info': 'OK', 'infocode': '10000', 'lives': [{'province': '北京', 'city': '北京市', 'adcode': '110000', 'weather': '晴', 'temperature': '14', 'winddirection': '南', 'windpower': '≤3', 'humidity': '21', 'reporttime': '2024-03-18 17:33:50', 'temperature_float': '14.0', 'humidity_float': '21.0'}]}\n",
      "{'temperature': '14', 'description': '晴'}\n"
     ]
    }
   ],
   "source": [
    "import requests\n",
    "import os\n",
    "def get_current_weather(location:str,locationCityCode:str,unit:str):\n",
    "    key=os.environ[\"tianqikey\"]\n",
    "    url=f\"https://restapi.amap.com/v3/weather/weatherInfo?key={key}&city={locationCityCode}\"\n",
    "    print(url)\n",
    "    response=requests.get(url)\n",
    "    print(response.json())\n",
    "    if response.status_code == 200:\n",
    "        data=response.json()\n",
    "        weather={\n",
    "            \"temperature\":data[\"lives\"][0][\"temperature\"],\n",
    "            \"description\":data[\"lives\"][0][\"weather\"]\n",
    "        }\n",
    "        return weather\n",
    "    else:\n",
    "        raise Exception(f\"Failed retrive weatherL{response.status_code} \")\n",
    "\n",
    "\n",
    "print(get_current_weather(location=\"北京\",locationCityCode=\"110000\",unit=\"c\"))\n",
    "\n",
    "\n",
    "\n"
   ]
  },
  {
   "cell_type": "code",
   "execution_count": 13,
   "metadata": {},
   "outputs": [
    {
     "name": "stdout",
     "output_type": "stream",
     "text": [
      "FunctionName:get_current_weather\n",
      "https://restapi.amap.com/v3/weather/weatherInfo?key=225630f84b6a0f7626e97b3cda0d6e0e&city=110000\n",
      "{'status': '1', 'count': '1', 'info': 'OK', 'infocode': '10000', 'lives': [{'province': '北京', 'city': '北京市', 'adcode': '110000', 'weather': '晴', 'temperature': '14', 'winddirection': '西南', 'windpower': '≤3', 'humidity': '21', 'reporttime': '2024-03-18 18:03:26', 'temperature_float': '14.0', 'humidity_float': '21.0'}]}\n"
     ]
    },
    {
     "data": {
      "text/plain": [
       "Completion(model='glm-4', created=1710756353, choices=[CompletionChoice(index=0, finish_reason='stop', message=CompletionMessage(content='今天北京的天气是晴天，温度大约在14摄氏度左右。请注意，这是一个根据我最后更新的信息生成的回答，实际天气情况可能会有所变化。如果你需要最新的天气信息，建议查看最近的天气预报。', role='assistant', tool_calls=None))], request_id='8489583230981392414', id='8489583230981392414', usage=CompletionUsage(prompt_tokens=24, completion_tokens=45, total_tokens=69))"
      ]
     },
     "execution_count": 13,
     "metadata": {},
     "output_type": "execute_result"
    }
   ],
   "source": [
    "import json\n",
    "def extract_function_and_execute(llm_output,messages):\n",
    "    name=llm_output.choices[0].message.tool_calls[0].function.name\n",
    "    params=json.loads(llm_output.choices[0].message.tool_calls[0].function.arguments)\n",
    "    print(f'FunctionName:{name}')\n",
    "    function_to_call=globals().get(name)\n",
    "    if not function_to_call:\n",
    "        raise ValueError(f\"Function '{name}' not found\")\n",
    "    \n",
    "    messages.append({\n",
    "        \"role\":\"tool\",\n",
    "        \"content\":str(function_to_call(**params))\n",
    "    })\n",
    "    return messages\n",
    "\n",
    "\n",
    "messages=[\n",
    "    {\n",
    "        \"role\":\"user\",\n",
    "        \"content\":\"今天北京天气如何？\"\n",
    "    }\n",
    "]\n",
    "\n",
    "completion=client.chat.completions.create(\n",
    "    model=\"glm-4\",\n",
    "    messages=messages,\n",
    "    tools=tools,\n",
    "    tool_choice=\"auto\"\n",
    ")\n",
    "extract_function_and_execute(llm_output=completion,messages=messages)\n",
    "\n",
    "final_anwser=client.chat.completions.create(\n",
    "    model=\"glm-4\",\n",
    "    messages=messages,\n",
    "    tool_choice=\"auto\"\n",
    ")\n",
    "final_anwser"
   ]
  },
  {
   "cell_type": "code",
   "execution_count": 14,
   "metadata": {},
   "outputs": [
    {
     "data": {
      "text/plain": [
       "Completion(model='glm-4', created=1710756558, choices=[CompletionChoice(index=0, finish_reason='stop', message=CompletionMessage(content='根据提供的信息，2023年中国准独角兽企业100强的榜单中涉及了多个领域，包括人工智能、物流运输、先进制造、机器人、半导体等。具体的企业名单在摘要中并未完全列出，但以下是一些被提及的企业：\\n\\n1. 视比特机器人：位于长沙，专注于AI 3D视觉产品、工业智能软件及智慧工厂解决方案。\\n2. 中储智运：具体信息不详，但从名字来看可能与智慧物流有关。\\n3. Boreasa贝丰科技：具体信息不详。\\n4. 蔚蓝科技：具体信息不详。\\n5. 一知智能：具体信息不详。\\n6. 知医科技：具体信息不详，可能与医疗健康领域有关。\\n7. 大族机器人：可能专注于机器人技术。\\n8. 微纳星空：可能与半导体或者精密仪器有关。\\n9. 英诺赛科：具体信息不详。\\n10. 云徙科技：具体信息不详。\\n\\n此外，还有以下提及的企业：\\n\\n- 商越科技：专注于提供采购数字化解决方案，服务于大中型企业。\\n  \\n榜单中还有其他企业，但未在摘要中提及。需要注意的是，这些企业被认为是“准独角兽”，意味着它们有潜力在未来短时间内成长为估值达到10亿美元或以上的独角兽企业。\\n\\n要获取完整的2023年中国准独角兽企业100强榜单，建议查阅互联网周刊、德本咨询和eNet研究院等机构发布的正式报告或相关官方发布信息。', role='assistant', tool_calls=None))], request_id='8489583780737239074', id='8489583780737239074', usage=CompletionUsage(prompt_tokens=1040, completion_tokens=300, total_tokens=1340))"
      ]
     },
     "execution_count": 14,
     "metadata": {},
     "output_type": "execute_result"
    }
   ],
   "source": [
    "tools_web_search=[\n",
    "    {\n",
    "        \"type\":\"web_search\",\n",
    "        \"web_search\":{\n",
    "            \"eanble\":False\n",
    "        }\n",
    "    }\n",
    "]\n",
    "messages=[{\n",
    "    \"role\":\"user\",\n",
    "    \"content\":\"2023年100强独角兽企业有哪些?\"\n",
    "}]\n",
    "\n",
    "completion_without_web=client.chat.completions.create(\n",
    "    model=\"glm-4\",\n",
    "    messages=messages,\n",
    "    tools=tools_web_search\n",
    ")\n",
    "completion_without_web"
   ]
  }
 ],
 "metadata": {
  "kernelspec": {
   "display_name": "glm",
   "language": "python",
   "name": "python3"
  },
  "language_info": {
   "codemirror_mode": {
    "name": "ipython",
    "version": 3
   },
   "file_extension": ".py",
   "mimetype": "text/x-python",
   "name": "python",
   "nbconvert_exporter": "python",
   "pygments_lexer": "ipython3",
   "version": "3.10.13"
  }
 },
 "nbformat": 4,
 "nbformat_minor": 2
}
