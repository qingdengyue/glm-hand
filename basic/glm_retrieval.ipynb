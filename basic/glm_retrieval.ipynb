{
 "cells": [
  {
   "cell_type": "code",
   "execution_count": 1,
   "metadata": {},
   "outputs": [],
   "source": [
    "import os\n",
    "from zhipuai import  ZhipuAI\n",
    "client=ZhipuAI()\n"
   ]
  },
  {
   "cell_type": "code",
   "execution_count": 2,
   "metadata": {},
   "outputs": [],
   "source": [
    "prompt_template = \"\"\"\n",
    "从文档\n",
    "{{knowledge}}\n",
    "中找问题\n",
    "{{question}}\n",
    "的答案，\n",
    "找到答案就仅使用文档语句回答，找不到答案就用自身知识回答并告诉用户该信息不是来自文档。\n",
    "不要复述问题，直接开始回答。\n",
    "\"\"\"\n",
    "knowledge_id=1748261416734965760\n",
    "response=client.chat.completions.create(\n",
    "    model=\"glm-4\",\n",
    "    messages=[\n",
    "        {\n",
    "            \"role\":\"user\",\n",
    "            \"content\":\"大数据专业未来的升学情况\"\n",
    "        }\n",
    "    ],\n",
    "    tools=[\n",
    "        {\n",
    "            \"type\":\"retrieval\",\n",
    "            \"retrieval\":{\n",
    "                \"knowledge_id\":knowledge_id,\n",
    "                \"prompt_template\":prompt_template\n",
    "            }\n",
    "        }\n",
    "    ],\n",
    "    stream=False\n",
    ")"
   ]
  },
  {
   "cell_type": "code",
   "execution_count": 3,
   "metadata": {},
   "outputs": [
    {
     "data": {
      "text/plain": [
       "Completion(model='glm-4', created=1710822011, choices=[CompletionChoice(index=0, finish_reason='stop', message=CompletionMessage(content='大数据专业是近年来随着信息技术快速发展而兴起的一个热门专业。该专业毕业生未来的升学方向比较广泛，以下是一些可能的升学情况：\\n\\n1. 硕士研究生：大数据专业本科生可以选择继续攻读相关领域的硕士学位，如数据科学、计算机科学、统计学、人工智能等。在国内，有很多知名高校开设了这些研究生课程，如清华大学、北京大学、中国科学技术大学等。\\n\\n2. 博士研究生：对于有志于从事大数据研究的学生，可以选择攻读博士学位，深入研究大数据领域的相关问题，如数据挖掘、数据仓库、大数据分析等。\\n\\n3. 海外深造：部分学生可能会选择出国深造，学习国际前沿的大数据技术。美国、英国、澳大利亚等国家的高校在大数据领域具有较高的研究水平，是很多学生的首选。\\n\\n4. 双学位或交叉学科：大数据专业涉及多个学科领域，学生可以选择攻读双学位或交叉学科的研究生课程，如金融工程、生物信息学、地理信息系统等，以拓宽自己的知识面和就业方向。\\n\\n5. 在职研究生：对于已经工作的学生，可以选择在职攻读研究生课程，提高自己的理论水平和实践能力，为职业发展奠定基础。\\n\\n6. 短期培训和证书课程：学生还可以选择参加一些短期培训课程和考取相关证书，如大数据分析师、数据挖掘工程师等，以提高自己的就业竞争力。\\n\\n总之，大数据专业未来的升学方向有很多，关键在于学生要根据自己的兴趣和职业规划做出合适的选择。同时，随着大数据技术在各行业的应用不断深入，相关专业的就业前景也非常广阔。', role='assistant', tool_calls=None))], request_id='8489585361285183865', id='8489585361285183865', usage=CompletionUsage(prompt_tokens=10, completion_tokens=310, total_tokens=320))"
      ]
     },
     "execution_count": 3,
     "metadata": {},
     "output_type": "execute_result"
    }
   ],
   "source": [
    "response"
   ]
  }
 ],
 "metadata": {
  "kernelspec": {
   "display_name": "glm",
   "language": "python",
   "name": "python3"
  },
  "language_info": {
   "codemirror_mode": {
    "name": "ipython",
    "version": 3
   },
   "file_extension": ".py",
   "mimetype": "text/x-python",
   "name": "python",
   "nbconvert_exporter": "python",
   "pygments_lexer": "ipython3",
   "version": "3.10.13"
  }
 },
 "nbformat": 4,
 "nbformat_minor": 2
}
