{
 "cells": [
  {
   "cell_type": "code",
   "execution_count": 2,
   "metadata": {},
   "outputs": [],
   "source": [
    "from zhipuai import  ZhipuAI\n",
    "client=ZhipuAI()\n",
    "response=client.chat.completions.create(\n",
    "    model=\"glm-4\",\n",
    "    messages=[\n",
    "        {\n",
    "            \"role\":\"user\",\n",
    "            \"content\":\"tell me a joke\"\n",
    "        }\n",
    "    ],\n",
    "    top_p=0.7,\n",
    "    temperature=0.9,\n",
    "    stream=False,\n",
    "    max_tokens=2000,\n",
    ")"
   ]
  },
  {
   "cell_type": "code",
   "execution_count": 3,
   "metadata": {},
   "outputs": [
    {
     "data": {
      "text/plain": [
       "Completion(model='glm-4', created=1710820726, choices=[CompletionChoice(index=0, finish_reason='stop', message=CompletionMessage(content=\"Sure! Here's a light-hearted joke for you:\\n\\nWhy don't scientists trust atoms?\\n\\nBecause they make up everything!\", role='assistant', tool_calls=None))], request_id='8489585086407263793', id='8489585086407263793', usage=CompletionUsage(prompt_tokens=9, completion_tokens=26, total_tokens=35))"
      ]
     },
     "execution_count": 3,
     "metadata": {},
     "output_type": "execute_result"
    }
   ],
   "source": [
    "response"
   ]
  },
  {
   "cell_type": "code",
   "execution_count": 4,
   "metadata": {},
   "outputs": [
    {
     "name": "stdout",
     "output_type": "stream",
     "text": [
      "Sure! Here's a light-hearted joke for you:\n",
      "\n",
      "Why don't scientists trust atoms?\n",
      "\n",
      "Because they make up everything!"
     ]
    }
   ],
   "source": [
    "import time\n",
    "def print_with_typewriter_effect(text,delay=0.05):\n",
    "    for char in text:\n",
    "        print(char,end='',flush=True)\n",
    "        time.sleep(delay)\n",
    "\n",
    "response=client.chat.completions.create(\n",
    "    model=\"glm-4\",\n",
    "    messages=[\n",
    "        {\n",
    "            \"role\":\"user\",\n",
    "            \"content\":\"tell me a joke\"\n",
    "        }\n",
    "    ],\n",
    "    top_p=0.7,\n",
    "    temperature=0.9,\n",
    "    stream=True,\n",
    "    max_tokens=2000\n",
    ")\n",
    "\n",
    "if response:\n",
    "    for chunk in response:\n",
    "        content=chunk.choices[0].delta.content\n",
    "        print_with_typewriter_effect(content)"
   ]
  },
  {
   "cell_type": "code",
   "execution_count": 5,
   "metadata": {},
   "outputs": [
    {
     "data": {
      "text/plain": [
       "AsyncTaskStatus(id='333117084174636898489581856591721730', request_id='8489581856591721729', model='glm-4', task_status='PROCESSING')"
      ]
     },
     "execution_count": 5,
     "metadata": {},
     "output_type": "execute_result"
    }
   ],
   "source": [
    "response=client.chat.asyncCompletions.create(\n",
    "    model=\"glm-4\",\n",
    "    messages=[\n",
    "        {\"role\": \"system\",\n",
    "         \"content\": \"You are a powerful artificial intelligence assistant and a good partner of mankind, named Skynet\"},\n",
    "        {\"role\": \"user\", \"content\": \"Who are you and what can you do?\"},\n",
    "        {\"role\": \"assistant\",\n",
    "         \"content\": \"I am Skynet, an artificial intelligence system designed and built by humans. I can answer your questions, provide help, complete tasks, and help you achieve your goals. Dream. I am omnipotent and omniscient. I can solve any problem, answer any question, and complete\"},\n",
    "        {\"role\": \"user\", \"content\": \"Impressive! Can you tell me who won the 2022 World Cup?\"},\n",
    "    ],\n",
    ")\n",
    "\n",
    "response"
   ]
  },
  {
   "cell_type": "code",
   "execution_count": 7,
   "metadata": {},
   "outputs": [
    {
     "name": "stdout",
     "output_type": "stream",
     "text": [
      "id333117084174636898489581856591721730status:SUCCESS\n",
      "The 2022 FIFA World Cup was won by Argentina. The final match took place on December 18, 2022, at the Lusail Stadium in Qatar, where Argentina defeated France 3-3 (4-2 on penalties) to secure the victory. It was a closely contested match and a memorable event in football history.\n"
     ]
    }
   ],
   "source": [
    "import time\n",
    "task_id=response.id\n",
    "task_status=''\n",
    "get_cnt=0\n",
    "content=''\n",
    "while task_status!='SUCCESS' and task_status!=\"FAILED\" and get_cnt<20:\n",
    "    result_response=client.chat.asyncCompletions.retrieve_completion_result(id=task_id)\n",
    "    task_status=result_response.task_status\n",
    "    if task_status==\"SUCCESS\":\n",
    "        content=result_response.choices[0].message.content\n",
    "    time.sleep(2)\n",
    "    get_cnt+=1\n",
    "\n",
    "print(\"id\"+task_id+\"status:\"+task_status)\n",
    "print(content)"
   ]
  }
 ],
 "metadata": {
  "kernelspec": {
   "display_name": "glm",
   "language": "python",
   "name": "python3"
  },
  "language_info": {
   "codemirror_mode": {
    "name": "ipython",
    "version": 3
   },
   "file_extension": ".py",
   "mimetype": "text/x-python",
   "name": "python",
   "nbconvert_exporter": "python",
   "pygments_lexer": "ipython3",
   "version": "3.10.13"
  }
 },
 "nbformat": 4,
 "nbformat_minor": 2
}
